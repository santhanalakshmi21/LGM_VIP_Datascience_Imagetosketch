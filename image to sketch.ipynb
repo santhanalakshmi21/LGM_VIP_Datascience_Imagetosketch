{
  "nbformat": 4,
  "nbformat_minor": 0,
  "metadata": {
    "colab": {
      "provenance": []
    },
    "kernelspec": {
      "name": "python3",
      "display_name": "Python 3"
    },
    "language_info": {
      "name": "python"
    }
  },
  "cells": [
    {
      "cell_type": "code",
      "execution_count": 5,
      "metadata": {
        "colab": {
          "base_uri": "https://localhost:8080/"
        },
        "id": "ARFIEZX5TH9Y",
        "outputId": "6770e0b6-b79f-47a5-b11d-0113db4c3704"
      },
      "outputs": [
        {
          "output_type": "execute_result",
          "data": {
            "text/plain": [
              "True"
            ]
          },
          "metadata": {},
          "execution_count": 5
        }
      ],
      "source": [
        "import cv2\n",
        "# loads an image\n",
        "img = cv2.imread('FZX_lead.webp') \n",
        "# color as an argument and then changes the source image color into that color.\n",
        "grey_img = cv2.cvtColor(img, cv2.COLOR_BGR2GRAY)\n",
        "# helps in masking of the image\n",
        "invert_img = cv2.bitwise_not(grey_img) \n",
        "# sharp edges in images are smoothed while minimizing too much blurring\n",
        "blur = cv2.GaussianBlur(invert_img, (21, 21), 0)\n",
        "invertblur = cv2.bitwise_not(blur)\n",
        "#normalize the image\n",
        "sketch = cv2.divide(grey_img, invertblur, scale=255.0)\n",
        "# converted image is saved as mentioned name\n",
        "cv2.imwrite(\"final.png\", sketch) \n"
      ]
    }
  ]
}